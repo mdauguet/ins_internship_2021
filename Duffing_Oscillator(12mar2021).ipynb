{
 "cells": [
  {
   "cell_type": "markdown",
   "id": "danish-relative",
   "metadata": {},
   "source": [
    "# <b> Duffing oscillator model </b>\n",
    "***"
   ]
  },
  {
   "cell_type": "code",
   "execution_count": 298,
   "id": "cosmetic-tuning",
   "metadata": {},
   "outputs": [],
   "source": [
    "# Importing relevant stuff\n",
    "import numpy as np, numpy\n",
    "import time as tm\n",
    "import matplotlib.pyplot as plt\n",
    "import matplotlib as mpl\n",
    "plt.style.use('seaborn-dark')"
   ]
  },
  {
   "cell_type": "code",
   "execution_count": 299,
   "id": "hundred-freeware",
   "metadata": {},
   "outputs": [],
   "source": [
    "from tvb.simulator.models.base import Model\n",
    "from tvb.basic.neotraits.api import NArray, List, Range, Final\n",
    "\n",
    "from tvb.datatypes.time_series import TimeSeriesRegion\n",
    "import tvb.analyzers.fmri_balloon as bold\n",
    "\n",
    "from tvb.simulator.lab import *"
   ]
  },
  {
   "cell_type": "code",
   "execution_count": 300,
   "id": "primary-queen",
   "metadata": {},
   "outputs": [],
   "source": [
    "import os\n",
    "import scipy\n",
    "import h5py"
   ]
  },
  {
   "cell_type": "code",
   "execution_count": 301,
   "id": "revolutionary-woman",
   "metadata": {},
   "outputs": [],
   "source": [
    "from scipy.io import loadmat\n",
    "from scipy.signal import resample, square"
   ]
  },
  {
   "cell_type": "markdown",
   "id": "photographic-liberia",
   "metadata": {},
   "source": [
    "### <b> Creating the model </b>\n",
    "***"
   ]
  },
  {
   "cell_type": "code",
   "execution_count": 302,
   "id": "twelve-backup",
   "metadata": {},
   "outputs": [],
   "source": [
    "class DuffingOscillator(Model):\n",
    "    alpha = NArray(\n",
    "        label=\":math:`\\alpha`\",\n",
    "        default=np.array([-1]),\n",
    "        domain=Range(lo=-15.0, hi=15.0, step=0.01),\n",
    "        doc=\"\"\"Controls the linear stiffness\"\"\",\n",
    "    )\n",
    "    \n",
    "    beta = NArray(\n",
    "        label=\":math:`\\delta`\",\n",
    "        default=np.array([1]),\n",
    "        domain=Range(lo=0.001, hi=15.0, step=0.01),\n",
    "        doc=\"\"\"Controls the amount of non-linearity in the restoring force\"\"\",\n",
    "    )\n",
    "    \n",
    "    delta = NArray(\n",
    "        label=\":math:`\\delta`\",\n",
    "        default=np.array([0.2]),\n",
    "        domain=Range(lo=0.001, hi=15.0, step=0.01),\n",
    "        doc=\"\"\"Controls the amount of damping\"\"\",\n",
    "    )\n",
    "    \n",
    "    gamma = NArray(\n",
    "        label=\":math:`\\gamma`\",\n",
    "        default=np.array([0.3]),\n",
    "        domain=Range(lo=0.001, hi=15.0, step=0.01),\n",
    "        doc=\"\"\"Amplitude of the periodic driving force\"\"\",\n",
    "    )\n",
    "    \n",
    "    omega = NArray(\n",
    "        label=\":math:`\\omega`\",\n",
    "        default=np.array([0.01]),\n",
    "        domain=Range(lo=0.001, hi=15.0, step=0.01),\n",
    "        doc=\"\"\"Angular frequency of the periodic driving force\"\"\",\n",
    "    )\n",
    "        \n",
    "        #Informational attribute, used for phase-plane and initial()\n",
    "    state_variable_range = Final(\n",
    "        label=\"State Variable ranges [lo, hi]\",\n",
    "        default={\"x\": np.array([1., 1.]),\n",
    "                 \"y\": np.array([0., 0.]),\n",
    "                 \"z\": np.array([0., 0.])},\n",
    "        doc=\"\"\"Expected ranges of the state variables for initial condition generation and phase plane setup.\"\"\",\n",
    "    )\n",
    "\n",
    "    state_variable_boundaries = Final(\n",
    "            label=\"State Variable boundaries [lo, hi]\",\n",
    "            default={\"x\": np.array([np.NINF, np.inf])},\n",
    "    )\n",
    "    \n",
    "    variables_of_interest = List(\n",
    "            of=str,\n",
    "            label=\"Variables or quantities available to Monitors\",\n",
    "            choices=(\"x\", \"y\", \"z\"),\n",
    "            default=(\"x\", \"y\", \"z\"),\n",
    "            doc=\"The quantities of interest for monitoring for the Duffin oscillator.\",\n",
    "    )\n",
    "    # State variables\n",
    "    state_variables = ('x','y','z')\n",
    "    _nvar = 3\n",
    "    # Cvar is the coupling variable. \n",
    "    cvar = np.array([0], dtype=np.int32)\n",
    "    \n",
    "    def dfun(self, state_variables, coupling, local_coupling=0.0):\n",
    "        x, y, z = state_variables\n",
    "        \n",
    "        #[State_variables, nodes]\n",
    "        alpha = self.alpha\n",
    "        beta  = self.beta\n",
    "        delta = self.delta\n",
    "        gamma = self.gamma\n",
    "        omega = self.omega\n",
    "        \n",
    "        derivative = numpy.empty_like(state_variables)\n",
    "        \n",
    "        derivative[0] = y\n",
    "        derivative[1] = (-delta*y) - (alpha*x) - (beta*(x**3)) + (gamma*np.cos(omega*z))\n",
    "        derivative[2] = 1\n",
    "        \n",
    "        return derivative"
   ]
  },
  {
   "cell_type": "markdown",
   "id": "streaming-heart",
   "metadata": {},
   "source": [
    "### <b> Setting up the network </b>\n",
    "***"
   ]
  },
  {
   "cell_type": "code",
   "execution_count": 303,
   "id": "infectious-average",
   "metadata": {},
   "outputs": [],
   "source": [
    "# Setting up a 1 node network\n",
    "conn1node = connectivity.Connectivity(weights=np.array([[0]]),\n",
    "                                      tract_lengths=np.array([[0]]),\n",
    "                                      region_labels=np.array(['Region']),\n",
    "                                      centres=np.array([[0, 0, 0]]),\n",
    "                                     )\n",
    "conn1node.configure()"
   ]
  },
  {
   "cell_type": "code",
   "execution_count": 304,
   "id": "becoming-collector",
   "metadata": {},
   "outputs": [],
   "source": [
    "# Setting up integration time and simulation length\n",
    "dt = 0.1\n",
    "simlen = 1000 * 30"
   ]
  },
  {
   "cell_type": "code",
   "execution_count": 305,
   "id": "classified-calculation",
   "metadata": {},
   "outputs": [],
   "source": [
    "# Setting up the monitors\n",
    "mon_tavg = monitors.TemporalAverage(period=5)\n",
    "mon_bold = monitors.Bold(period=2000)\n",
    "what_to_watch = (mon_tavg, mon_bold)"
   ]
  },
  {
   "cell_type": "code",
   "execution_count": 306,
   "id": "opponent-actor",
   "metadata": {},
   "outputs": [],
   "source": [
    "# Setting up the noise and the coupling\n",
    "    # Noise\n",
    "nsigma = .0002\n",
    "nsigma_dom = [0, 0, 0]\n",
    "hiss = noise.Additive(nsig=np.array(nsigma_dom))\n",
    "heunint = integrators.HeunStochastic(dt = dt, noise = hiss)\n",
    "    # Coupling\n",
    "G = .1\n",
    "con_coupling = coupling.Scaling(a = np.array(G))"
   ]
  },
  {
   "cell_type": "code",
   "execution_count": 307,
   "id": "guided-choir",
   "metadata": {},
   "outputs": [
    {
     "data": {
      "text/html": [
       "<table>\n",
       "<h3>DuffingOscillator</h3>\n",
       "<thead><tr><th></th><th style=\"text-align:left;width:40%\">value</th></tr></thead>\n",
       "<tbody>\n",
       "<tr><td>Type</td><td style=\"text-align:left;\"><pre>DuffingOscillator</pre></td>\n",
       "<tr><td>alpha [min, median, max]</td><td style=\"text-align:left;\"><pre>[-1, -1, -1]</pre></td>\n",
       "<tr><td>alpha dtype</td><td style=\"text-align:left;\"><pre>float64</pre></td>\n",
       "<tr><td>alpha shape</td><td style=\"text-align:left;\"><pre>(1,)</pre></td>\n",
       "<tr><td>beta [min, median, max]</td><td style=\"text-align:left;\"><pre>[1, 1, 1]</pre></td>\n",
       "<tr><td>beta dtype</td><td style=\"text-align:left;\"><pre>int64</pre></td>\n",
       "<tr><td>beta shape</td><td style=\"text-align:left;\"><pre>(1,)</pre></td>\n",
       "<tr><td>delta [min, median, max]</td><td style=\"text-align:left;\"><pre>[0.3, 0.3, 0.3]</pre></td>\n",
       "<tr><td>delta dtype</td><td style=\"text-align:left;\"><pre>float64</pre></td>\n",
       "<tr><td>delta shape</td><td style=\"text-align:left;\"><pre>(1,)</pre></td>\n",
       "<tr><td>gamma [min, median, max]</td><td style=\"text-align:left;\"><pre>[0.5, 0.5, 0.5]</pre></td>\n",
       "<tr><td>gamma dtype</td><td style=\"text-align:left;\"><pre>float64</pre></td>\n",
       "<tr><td>gamma shape</td><td style=\"text-align:left;\"><pre>(1,)</pre></td>\n",
       "<tr><td>gid</td><td style=\"text-align:left;\"><pre>UUID('73386444-7d33-4f6c-8731-e0f26f882bff')</pre></td>\n",
       "<tr><td>omega [min, median, max]</td><td style=\"text-align:left;\"><pre>[0.0628319, 0.0628319, 0.0628319]</pre></td>\n",
       "<tr><td>omega dtype</td><td style=\"text-align:left;\"><pre>float64</pre></td>\n",
       "<tr><td>omega shape</td><td style=\"text-align:left;\"><pre>(1,)</pre></td>\n",
       "<tr><td>state_variable_boundaries</td><td style=\"text-align:left;\"><pre>{'x': array([-inf,  inf])}</pre></td>\n",
       "<tr><td>state_variable_range</td><td style=\"text-align:left;\"><pre>{'x': array([1., 1.]), 'y': array([0., 0.]), 'z': array([0., 0.])}</pre></td>\n",
       "<tr><td>title</td><td style=\"text-align:left;\"><pre>DuffingOscillator gid: 73386444-7d33-4f6c-8731-e0f26f882bff</pre></td>\n",
       "<tr><td>variables_of_interest</td><td style=\"text-align:left;\"><pre>('x', 'y', 'z')</pre></td>\n",
       "</tbody></table>"
      ],
      "text/plain": [
       "<__main__.DuffingOscillator at 0x7f6cfff67040>"
      ]
     },
     "execution_count": 307,
     "metadata": {},
     "output_type": "execute_result"
    }
   ],
   "source": [
    "# Setting up the model\n",
    "dom = DuffingOscillator(omega = np.array([((2*np.pi)*10)/1000]),\n",
    "                        alpha = np.array([-1.]),\n",
    "                        delta = np.array([.3]),\n",
    "                        gamma = np.array([.5]),\n",
    "                       )\n",
    "dom"
   ]
  },
  {
   "cell_type": "code",
   "execution_count": 308,
   "id": "remarkable-complexity",
   "metadata": {},
   "outputs": [
    {
     "name": "stderr",
     "output_type": "stream",
     "text": [
      "/home/marindauguet/anaconda3/envs/py3/lib/python3.9/site-packages/matplotlib/streamplot.py:278: RuntimeWarning: divide by zero encountered in double_scalars\n",
      "  self.x_data2grid = 1. / grid.dx\n",
      "/home/marindauguet/anaconda3/envs/py3/lib/python3.9/site-packages/matplotlib/streamplot.py:279: RuntimeWarning: divide by zero encountered in double_scalars\n",
      "  self.y_data2grid = 1. / grid.dy\n",
      "<ipython-input-282-bc984d239bb0>:65: UserWarning: No contour levels were found within the data range.\n",
      "  ax.contour(xx,yy,dx, [0], colors=\"r\", alpha=alpha)\n",
      "<ipython-input-282-bc984d239bb0>:66: UserWarning: No contour levels were found within the data range.\n",
      "  ax.contour(xx,yy,dy, [0], colors=\"g\", alpha=alpha)\n",
      "<ipython-input-282-bc984d239bb0>:67: UserWarning: Attempting to set identical left == right == 1.0 results in singular transformations; automatically expanding.\n",
      "  ax.set_xlim(xlim)\n",
      "<ipython-input-282-bc984d239bb0>:68: UserWarning: Attempting to set identical bottom == top == 0.0 results in singular transformations; automatically expanding.\n",
      "  ax.set_ylim(ylim)\n"
     ]
    },
    {
     "data": {
      "text/plain": [
       "<AxesSubplot:title={'center':'DuffingOscillator'}, xlabel='x', ylabel='y'>"
      ]
     },
     "execution_count": 308,
     "metadata": {},
     "output_type": "execute_result"
    },
    {
     "data": {
      "image/png": "[encoded data removed]",
      "text/plain": [
       "<Figure size 720x576 with 1 Axes>"
      ]
     },
     "metadata": {},
     "output_type": "display_data"
    }
   ],
   "source": [
    "phase_plane(dom)"
   ]
  },
  {
   "cell_type": "markdown",
   "id": "located-assets",
   "metadata": {},
   "source": [
    "### <b> Launching the simulation </b>\n",
    "***"
   ]
  },
  {
   "cell_type": "code",
   "execution_count": 309,
   "id": "transsexual-diabetes",
   "metadata": {},
   "outputs": [
    {
     "name": "stdout",
     "output_type": "stream",
     "text": [
      "   INFO  White noise configured with dt=0.1\n"
     ]
    },
    {
     "data": {
      "text/html": [
       "<table>\n",
       "<h3>Simulator</h3>\n",
       "<thead><tr><th></th><th style=\"text-align:left;width:40%\">value</th></tr></thead>\n",
       "<tbody>\n",
       "<tr><td>Type</td><td style=\"text-align:left;\"><pre>Simulator</pre></td>\n",
       "<tr><td>conduction_speed</td><td style=\"text-align:left;\"><pre>inf</pre></td>\n",
       "<tr><td>connectivity</td><td style=\"text-align:left;\"><pre>Connectivity gid: 9e137855-0ea1-476d-b0b6-1d5aaa575180</pre></td>\n",
       "<tr><td>coupling</td><td style=\"text-align:left;\"><pre>Scaling gid: fb536ee5-f9f2-4f53-900f-fa8d0dee1687</pre></td>\n",
       "<tr><td>gid</td><td style=\"text-align:left;\"><pre>UUID('c4428202-fdc6-42c0-80d1-f199bacd82c2')</pre></td>\n",
       "<tr><td>initial_conditions</td><td style=\"text-align:left;\"><pre>None</pre></td>\n",
       "<tr><td>integrator</td><td style=\"text-align:left;\"><pre>HeunStochastic gid: 1fe256f8-a034-46a6-8797-e492f56eb4ef</pre></td>\n",
       "<tr><td>model</td><td style=\"text-align:left;\"><pre>DuffingOscillator gid: 73386444-7d33-4f6c-8731-e0f26f882bff</pre></td>\n",
       "<tr><td>monitors</td><td style=\"text-align:left;\"><pre>(<tvb.simulator.monitors.TemporalAverage object at 0x7f6cfff67b80>, <tvb.simulator.monitors.Bold object at 0x7f6cfff670a0>)</pre></td>\n",
       "<tr><td>simulation_length</td><td style=\"text-align:left;\"><pre>30000.0</pre></td>\n",
       "<tr><td>stimulus</td><td style=\"text-align:left;\"><pre>None</pre></td>\n",
       "<tr><td>surface</td><td style=\"text-align:left;\"><pre>None</pre></td>\n",
       "<tr><td>title</td><td style=\"text-align:left;\"><pre>Simulator gid: c4428202-fdc6-42c0-80d1-f199bacd82c2</pre></td>\n",
       "</tbody></table>"
      ],
      "text/plain": [
       "<tvb.simulator.simulator.Simulator at 0x7f6d1418d100>"
      ]
     },
     "execution_count": 309,
     "metadata": {},
     "output_type": "execute_result"
    }
   ],
   "source": [
    "# Setting up the simulation\n",
    "sim = simulator.Simulator(model = dom,\n",
    "                          connectivity = conn1node,\n",
    "                          conduction_speed = np.inf,\n",
    "                          coupling = con_coupling,\n",
    "                          integrator = heunint,\n",
    "                          monitors = what_to_watch,\n",
    "                          simulation_length = simlen,\n",
    "                         )\n",
    "sim.configure()"
   ]
  },
  {
   "cell_type": "code",
   "execution_count": 310,
   "id": "atmospheric-buying",
   "metadata": {},
   "outputs": [
    {
     "name": "stdout",
     "output_type": "stream",
     "text": [
      "simulation required 100.6 seconds.\n"
     ]
    }
   ],
   "source": [
    "# Running the simulation\n",
    "tic = tm.time()\n",
    "(tavg_time, tavg_data), (bold_time, bold_data) = sim.run()\n",
    "print('simulation required %0.1f seconds.' % (tm.time()-tic))"
   ]
  },
  {
   "cell_type": "markdown",
   "id": "separate-validation",
   "metadata": {},
   "source": [
    "### <b> Visualization </b>\n",
    "***"
   ]
  },
  {
   "cell_type": "code",
   "execution_count": 311,
   "id": "adjacent-salvation",
   "metadata": {},
   "outputs": [
    {
     "data": {
      "text/plain": [
       "(6000,)"
      ]
     },
     "execution_count": 311,
     "metadata": {},
     "output_type": "execute_result"
    }
   ],
   "source": [
    "tavg_time.shape"
   ]
  },
  {
   "cell_type": "code",
   "execution_count": 312,
   "id": "focused-valuation",
   "metadata": {},
   "outputs": [
    {
     "data": {
      "image/png": "[encoded data removed]",
      "text/plain": [
       "<Figure size 1440x720 with 1 Axes>"
      ]
     },
     "metadata": {},
     "output_type": "display_data"
    }
   ],
   "source": [
    "plt.figure(figsize=(20,10))\n",
    "plt.plot(tavg_time[1000:1200], tavg_data[1000:1200,0,0,0], 'k');"
   ]
  },
  {
   "cell_type": "code",
   "execution_count": 313,
   "id": "narrative-alliance",
   "metadata": {},
   "outputs": [],
   "source": [
    "from matplotlib.lines import Line2D\n",
    "def phase_plane(\n",
    "        model, \n",
    "        variables=None, \n",
    "        npoints=100, \n",
    "        state=None, \n",
    "        mode=0,\n",
    "        title=None,\n",
    "        square_aspect=False,\n",
    "        faded=False,\n",
    "        ax=None\n",
    "):\n",
    "    assert len(model.state_variables) > 1\n",
    "    if ax is None:\n",
    "        _, ax = plt.subplots(figsize=(10,8))\n",
    "\n",
    "    if faded:\n",
    "        color=\"lightgray\"\n",
    "        alpha=0.5\n",
    "    else:\n",
    "        color=None\n",
    "        alpha=1\n",
    "\n",
    "    if variables==None:\n",
    "        svarx, svary = [0,1]\n",
    "        variables = model.state_variables[:2]\n",
    "    else:\n",
    "        assert len(variables) == 2\n",
    "        svarx = model.state_variables.index(variables[0])\n",
    "        svary = model.state_variables.index(variables[1])\n",
    "\n",
    "    if state is None:\n",
    "        state = np.array([model.state_variable_range[key].mean() for key in model.state_variables])\n",
    "        state = state[:,np.newaxis,np.newaxis]\n",
    "\n",
    "    if title is None:\n",
    "        title=model.__class__.__name__\n",
    "\n",
    "\n",
    "    xlim = model.state_variable_range[variables[0]]\n",
    "    ylim = model.state_variable_range[variables[1]]\n",
    "\n",
    "    x = np.linspace( *xlim, npoints)\n",
    "    y = np.linspace( *ylim, npoints)\n",
    "\n",
    "    xx, yy = np.meshgrid(x,y)\n",
    "    dx = np.zeros([len(y),len(x)])\n",
    "    dy = np.zeros([len(y),len(x)])\n",
    "\n",
    "\n",
    "    nocoupling = np.zeros(( model.nvar, 1, model.number_of_modes))\n",
    "    for i in range(len(y)):\n",
    "        for j in range(len(x)):\n",
    "            state[svarx,0,:] = x[j]\n",
    "            state[svary,0,:] = y[i]\n",
    "            dstate = model.dfun(\n",
    "                    state,\n",
    "                    nocoupling\n",
    "            )\n",
    "            dx[i,j], dy[i,j] = dstate[[svarx,svary],0,mode]\n",
    "    ax.streamplot(x,y,dx,dy,density=2.0,color=color)\n",
    "\n",
    "    ax.set_xlabel(variables[0],fontsize=15.0)\n",
    "    ax.set_ylabel(variables[1],fontsize=15.0)\n",
    "    ax.contour(xx,yy,dx, [0], colors=\"r\", alpha=alpha)\n",
    "    ax.contour(xx,yy,dy, [0], colors=\"g\", alpha=alpha)\n",
    "    ax.set_xlim(xlim)\n",
    "    ax.set_ylim(ylim)\n",
    "    legend_elements = [\n",
    "            Line2D([0], [0], color='r', alpha=alpha, label=f'$\\dot {variables[0]}=0$'),\n",
    "            Line2D([0], [0], color='g', alpha=alpha, label=f'$\\dot {variables[1]}=0$'),\n",
    "    ]\n",
    "    ax.legend(handles=legend_elements,loc='upper right')\n",
    "    ax.set_title(title)\n",
    "    if square_aspect:\n",
    "        ax.set_aspect(abs(xlim[0]-xlim[1])/abs(ylim[0]-ylim[1]))\n",
    "\n",
    "    return ax"
   ]
  },
  {
   "cell_type": "code",
   "execution_count": 314,
   "id": "identical-christopher",
   "metadata": {},
   "outputs": [
    {
     "data": {
      "text/plain": [
       "\u001b[0;31mSignature:\u001b[0m \u001b[0mplt\u001b[0m\u001b[0;34m.\u001b[0m\u001b[0mxlim\u001b[0m\u001b[0;34m(\u001b[0m\u001b[0;34m*\u001b[0m\u001b[0margs\u001b[0m\u001b[0;34m,\u001b[0m \u001b[0;34m**\u001b[0m\u001b[0mkwargs\u001b[0m\u001b[0;34m)\u001b[0m\u001b[0;34m\u001b[0m\u001b[0;34m\u001b[0m\u001b[0m\n",
       "\u001b[0;31mDocstring:\u001b[0m\n",
       "Get or set the x limits of the current axes.\n",
       "\n",
       "Call signatures::\n",
       "\n",
       "    left, right = xlim()  # return the current xlim\n",
       "    xlim((left, right))   # set the xlim to left, right\n",
       "    xlim(left, right)     # set the xlim to left, right\n",
       "\n",
       "If you do not specify args, you can pass *left* or *right* as kwargs,\n",
       "i.e.::\n",
       "\n",
       "    xlim(right=3)  # adjust the right leaving left unchanged\n",
       "    xlim(left=1)  # adjust the left leaving right unchanged\n",
       "\n",
       "Setting limits turns autoscaling off for the x-axis.\n",
       "\n",
       "Returns\n",
       "-------\n",
       "left, right\n",
       "    A tuple of the new x-axis limits.\n",
       "\n",
       "Notes\n",
       "-----\n",
       "Calling this function with no arguments (e.g. ``xlim()``) is the pyplot\n",
       "equivalent of calling `~.Axes.get_xlim` on the current axes.\n",
       "Calling this function with arguments is the pyplot equivalent of calling\n",
       "`~.Axes.set_xlim` on the current axes. All arguments are passed though.\n",
       "\u001b[0;31mFile:\u001b[0m      ~/anaconda3/envs/py3/lib/python3.9/site-packages/matplotlib/pyplot.py\n",
       "\u001b[0;31mType:\u001b[0m      function\n"
      ]
     },
     "metadata": {},
     "output_type": "display_data"
    }
   ],
   "source": [
    "plt.xlim?"
   ]
  },
  {
   "cell_type": "code",
   "execution_count": 315,
   "id": "adult-runner",
   "metadata": {},
   "outputs": [
    {
     "data": {
      "text/plain": [
       "(-2.0, 2.0)"
      ]
     },
     "execution_count": 315,
     "metadata": {},
     "output_type": "execute_result"
    },
    {
     "data": {
      "image/png": "[encoded data removed]",
      "text/plain": [
       "<Figure size 1008x1008 with 1 Axes>"
      ]
     },
     "metadata": {},
     "output_type": "display_data"
    }
   ],
   "source": [
    "plt.figure(figsize = (14,14))\n",
    "plt.plot(tavg_data[100:, 0,  0, 0], tavg_data[100:, 1, 0, 0],)\n",
    "plt.xlim(-2.,2.); plt.ylim(-2.,2.)\n",
    "#plt.savefig()"
   ]
  }
 ],
 "metadata": {
  "kernelspec": {
   "display_name": "Python 3",
   "language": "python",
   "name": "python3"
  },
  "language_info": {
   "codemirror_mode": {
    "name": "ipython",
    "version": 3
   },
   "file_extension": ".py",
   "mimetype": "text/x-python",
   "name": "python",
   "nbconvert_exporter": "python",
   "pygments_lexer": "ipython3",
   "version": "3.9.1"
  }
 },
 "nbformat": 4,
 "nbformat_minor": 5
}
